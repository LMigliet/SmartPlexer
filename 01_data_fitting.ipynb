{
 "cells": [
  {
   "cell_type": "markdown",
   "metadata": {},
   "source": [
    "This notebook fit all the curve from any data (single or multiplex), <br>\n",
    "HOWEVER IT IS NECESSARY TO SPECIFY THE TYPE OF DATA<br>\n",
    "It will store all the dataframes in the data folder.<br>\n",
    "Data generated will include:\n",
    "- Normalised curves\n",
    "- 5 sigm parameter (RAW CURVES)\n",
    "- Fitted sigmoidal curves with all the datapoint (RAW CURVES)\n",
    "- 5 sigm parameter (NORM CURVES)\n",
    "- Fitted sigmoidal curves with all the datapoint (NORM CURVES)"
   ]
  },
  {
   "cell_type": "markdown",
   "metadata": {},
   "source": [
    "# IMPORT LIBRARIES"
   ]
  },
  {
   "cell_type": "code",
   "execution_count": 1,
   "metadata": {},
   "outputs": [],
   "source": [
    "from pathlib import Path"
   ]
  },
  {
   "cell_type": "code",
   "execution_count": 2,
   "metadata": {},
   "outputs": [],
   "source": [
    "import python_libraries.sigmoid_fitting as fitfunc\n",
    "import python_libraries.data_processing as procfunc\n",
    "import python_libraries.data_loading as loadfunc\n",
    "import python_libraries.utilities as utils"
   ]
  },
  {
   "cell_type": "code",
   "execution_count": 3,
   "metadata": {},
   "outputs": [],
   "source": [
    "utils.colourblind()\n",
    "NMETA = 6"
   ]
  },
  {
   "cell_type": "markdown",
   "metadata": {},
   "source": [
    "# LOAD DATA\n",
    "First we are loading all the data in the folder for that particular experiment.<br>\n",
    "Obviously even here there is a date, inside the folder there might be multiple experiments, that's why after we create a dictionary which can downselect certain exp_ids."
   ]
  },
  {
   "cell_type": "code",
   "execution_count": 4,
   "metadata": {},
   "outputs": [],
   "source": [
    "data_path = f'{Path.cwd().parent}/data'\n",
    "data_selected_path = f'{data_path}/20210716_7_plex'"
   ]
  },
  {
   "cell_type": "code",
   "execution_count": 5,
   "metadata": {},
   "outputs": [],
   "source": [
    "singleplex_dict = {0: '20210706_01'}\n",
    "\n",
    "multiplex_dict = {0: '20210707_01',\n",
    "                  1: '20210707_03',\n",
    "                  2: '20210707_02',\n",
    "                  3: '20210708_01',\n",
    "                  4: '20210708_02',\n",
    "                  5: '20210708_03',\n",
    "                  6: '20210715_01',\n",
    "                  7: '20210715_02',\n",
    "                  8: '20210721_02',\n",
    "                  9: '20210721_03',\n",
    "                 10: '20210722_01',\n",
    "                 11: '20210723_01',\n",
    "                 12: '20210723_02'}\n",
    "\n",
    "DATA_TYPE = 'singleplex'\n",
    "DATA_TYPE = 'multiplex'"
   ]
  },
  {
   "cell_type": "markdown",
   "metadata": {},
   "source": [
    "Here we are passing the Key of the dictionary which corrisponds to a certain experiment ID.<br>\n",
    "The data can be loaded from both Singleplex and Multiplex.<br>\n",
    "The function \"load_raw_data_by_expid( )\", will take the path of the data and the list of seleceted exp_ids, to downselect them from the entire datafile."
   ]
  },
  {
   "cell_type": "code",
   "execution_count": 7,
   "metadata": {},
   "outputs": [
    {
     "name": "stdout",
     "output_type": "stream",
     "text": [
      "Data shape: (119, 51)\n"
     ]
    },
    {
     "data": {
      "text/html": [
       "<div>\n",
       "<style scoped>\n",
       "    .dataframe tbody tr th:only-of-type {\n",
       "        vertical-align: middle;\n",
       "    }\n",
       "\n",
       "    .dataframe tbody tr th {\n",
       "        vertical-align: top;\n",
       "    }\n",
       "\n",
       "    .dataframe thead th {\n",
       "        text-align: right;\n",
       "    }\n",
       "</style>\n",
       "<table border=\"1\" class=\"dataframe\">\n",
       "  <thead>\n",
       "    <tr style=\"text-align: right;\">\n",
       "      <th></th>\n",
       "      <th>Channel</th>\n",
       "      <th>PrimerMix</th>\n",
       "      <th>Target</th>\n",
       "      <th>Assay</th>\n",
       "      <th>Conc</th>\n",
       "      <th>Exp_ID</th>\n",
       "      <th>1.0</th>\n",
       "      <th>2.0</th>\n",
       "      <th>3.0</th>\n",
       "      <th>4.0</th>\n",
       "      <th>...</th>\n",
       "      <th>36.0</th>\n",
       "      <th>37.0</th>\n",
       "      <th>38.0</th>\n",
       "      <th>39.0</th>\n",
       "      <th>40.0</th>\n",
       "      <th>41.0</th>\n",
       "      <th>42.0</th>\n",
       "      <th>43.0</th>\n",
       "      <th>44.0</th>\n",
       "      <th>45.0</th>\n",
       "    </tr>\n",
       "  </thead>\n",
       "  <tbody>\n",
       "    <tr>\n",
       "      <th>0</th>\n",
       "      <td>A01</td>\n",
       "      <td>PM7.2151</td>\n",
       "      <td>ADE</td>\n",
       "      <td>ADE_HEX_06</td>\n",
       "      <td>10000000</td>\n",
       "      <td>20210723_01</td>\n",
       "      <td>-0.456028</td>\n",
       "      <td>-0.456026</td>\n",
       "      <td>-0.455892</td>\n",
       "      <td>-0.453863</td>\n",
       "      <td>...</td>\n",
       "      <td>52330.887343</td>\n",
       "      <td>52531.874781</td>\n",
       "      <td>52683.762916</td>\n",
       "      <td>52799.227180</td>\n",
       "      <td>52887.526478</td>\n",
       "      <td>52955.451792</td>\n",
       "      <td>53008.008082</td>\n",
       "      <td>53048.903489</td>\n",
       "      <td>53080.900538</td>\n",
       "      <td>53106.068868</td>\n",
       "    </tr>\n",
       "    <tr>\n",
       "      <th>1</th>\n",
       "      <td>A02</td>\n",
       "      <td>PM7.2151</td>\n",
       "      <td>ADE</td>\n",
       "      <td>ADE_HEX_06</td>\n",
       "      <td>10000000</td>\n",
       "      <td>20210723_01</td>\n",
       "      <td>-0.479235</td>\n",
       "      <td>-0.479232</td>\n",
       "      <td>-0.479110</td>\n",
       "      <td>-0.477169</td>\n",
       "      <td>...</td>\n",
       "      <td>52922.305236</td>\n",
       "      <td>53079.420598</td>\n",
       "      <td>53197.493050</td>\n",
       "      <td>53286.792492</td>\n",
       "      <td>53354.759105</td>\n",
       "      <td>53406.811114</td>\n",
       "      <td>53446.916718</td>\n",
       "      <td>53477.999424</td>\n",
       "      <td>53502.226100</td>\n",
       "      <td>53521.212517</td>\n",
       "    </tr>\n",
       "    <tr>\n",
       "      <th>2</th>\n",
       "      <td>A03</td>\n",
       "      <td>PM7.2151</td>\n",
       "      <td>C22</td>\n",
       "      <td>C22_N_02</td>\n",
       "      <td>10000000</td>\n",
       "      <td>20210723_01</td>\n",
       "      <td>-0.026556</td>\n",
       "      <td>-0.026556</td>\n",
       "      <td>-0.026555</td>\n",
       "      <td>-0.026544</td>\n",
       "      <td>...</td>\n",
       "      <td>38440.782126</td>\n",
       "      <td>38449.311308</td>\n",
       "      <td>38455.108909</td>\n",
       "      <td>38459.089637</td>\n",
       "      <td>38461.849196</td>\n",
       "      <td>38463.779744</td>\n",
       "      <td>38465.142121</td>\n",
       "      <td>38466.111546</td>\n",
       "      <td>38466.806836</td>\n",
       "      <td>38467.309292</td>\n",
       "    </tr>\n",
       "  </tbody>\n",
       "</table>\n",
       "<p>3 rows × 51 columns</p>\n",
       "</div>"
      ],
      "text/plain": [
       "  Channel PrimerMix Target       Assay      Conc       Exp_ID       1.0  \\\n",
       "0     A01  PM7.2151    ADE  ADE_HEX_06  10000000  20210723_01 -0.456028   \n",
       "1     A02  PM7.2151    ADE  ADE_HEX_06  10000000  20210723_01 -0.479235   \n",
       "2     A03  PM7.2151    C22    C22_N_02  10000000  20210723_01 -0.026556   \n",
       "\n",
       "        2.0       3.0       4.0  ...          36.0          37.0  \\\n",
       "0 -0.456026 -0.455892 -0.453863  ...  52330.887343  52531.874781   \n",
       "1 -0.479232 -0.479110 -0.477169  ...  52922.305236  53079.420598   \n",
       "2 -0.026556 -0.026555 -0.026544  ...  38440.782126  38449.311308   \n",
       "\n",
       "           38.0          39.0          40.0          41.0          42.0  \\\n",
       "0  52683.762916  52799.227180  52887.526478  52955.451792  53008.008082   \n",
       "1  53197.493050  53286.792492  53354.759105  53406.811114  53446.916718   \n",
       "2  38455.108909  38459.089637  38461.849196  38463.779744  38465.142121   \n",
       "\n",
       "           43.0          44.0          45.0  \n",
       "0  53048.903489  53080.900538  53106.068868  \n",
       "1  53477.999424  53502.226100  53521.212517  \n",
       "2  38466.111546  38466.806836  38467.309292  \n",
       "\n",
       "[3 rows x 51 columns]"
      ]
     },
     "execution_count": 7,
     "metadata": {},
     "output_type": "execute_result"
    }
   ],
   "source": [
    "# id_key = [0]\n",
    "# id_key = [0, 1, 2, 3, 4, 5, 6, 7]\n",
    "id_key = [11, 12]  # enter the exp_id from the dictionary above\n",
    "\n",
    "exp_id_list = []  # storing all the exp_id selected\n",
    "\n",
    "if DATA_TYPE == 'singleplex':\n",
    "    exp_id_list = utils.list_from_key(singleplex_dict, id_key)\n",
    "\n",
    "if DATA_TYPE == 'multiplex':\n",
    "    exp_id_list = utils.list_from_key(multiplex_dict, id_key)\n",
    "    \n",
    "df_raw_rb = loadfunc.load_processed_data_by_expid(data_selected_path, exp_id_list, 'raw_rb')\n",
    "df_raw_rb = utils.order_columns(df_raw_rb, NMETA)\n",
    "\n",
    "print(f'Data shape: {df_raw_rb.shape}')\n",
    "df_raw_rb.head(3)"
   ]
  },
  {
   "cell_type": "markdown",
   "metadata": {},
   "source": [
    "# NORMALIZED DATA based on FFI \n",
    "Divide all the values of the dataframe by the last cycle to let the DF goes from 0 to 1 as Fluorescence for each cycle"
   ]
  },
  {
   "cell_type": "code",
   "execution_count": 8,
   "metadata": {},
   "outputs": [
    {
     "data": {
      "text/plain": [
       "(119, 51)"
      ]
     },
     "execution_count": 8,
     "metadata": {},
     "output_type": "execute_result"
    }
   ],
   "source": [
    "df_norm = procfunc.concat_norm_curve_on_FFI(df_raw_rb, NMETA)\n",
    "df_norm.shape"
   ]
  },
  {
   "cell_type": "code",
   "execution_count": null,
   "metadata": {},
   "outputs": [],
   "source": [
    "# storing data in the folder (saving the new dataframe)\n",
    "loadfunc.store_by_id(df_norm.reset_index(drop = True), data_selected_path, 'processed_data', 'norm_curve')"
   ]
  },
  {
   "cell_type": "markdown",
   "metadata": {},
   "source": [
    "# SIGMOID FITTING (RAW)"
   ]
  },
  {
   "cell_type": "markdown",
   "metadata": {},
   "source": [
    "## Pivot fitting for RAW CURVES"
   ]
  },
  {
   "cell_type": "code",
   "execution_count": null,
   "metadata": {},
   "outputs": [],
   "source": [
    "bounds = (-100, 100)\n",
    "maxfev = 1000000\n",
    "core_number = 16\n",
    "thresh_MSE = 0.0001\n",
    "func = fitfunc.Five_Parameter_Sigmoid"
   ]
  },
  {
   "cell_type": "code",
   "execution_count": null,
   "metadata": {
    "scrolled": true
   },
   "outputs": [],
   "source": [
    "p0_initial = fitfunc.pivot_fitting(df_raw_rb, func,\n",
    "                              NMETA, bounds, maxfev, core_number, thresh_MSE, seed=0)\n",
    "\n",
    "print('Initial p0: ', p0_initial)"
   ]
  },
  {
   "cell_type": "markdown",
   "metadata": {},
   "source": [
    "## Fit all data for RAW CURVES"
   ]
  },
  {
   "cell_type": "code",
   "execution_count": null,
   "metadata": {},
   "outputs": [],
   "source": [
    "df_fitted_param, df_fitted_curve = fitfunc.sigmoid_fitting_parallel(df_raw_rb, \n",
    "                                                                    NMETA, func, p0_initial, \n",
    "                                                                    bounds, maxfev, core_number)"
   ]
  },
  {
   "cell_type": "code",
   "execution_count": null,
   "metadata": {},
   "outputs": [],
   "source": [
    "# storing data in the folder (saving the new dataframe)\n",
    "loadfunc.store_by_id(df_fitted_param.reset_index(drop = True), data_selected_path, 'processed_data', 'fitted_param')"
   ]
  },
  {
   "cell_type": "code",
   "execution_count": null,
   "metadata": {},
   "outputs": [],
   "source": [
    "# storing data in the folder (saving the new dataframe)\n",
    "loadfunc.store_by_id(df_fitted_curve.reset_index(drop = True), data_selected_path, 'processed_data', 'fitted_curve')"
   ]
  },
  {
   "cell_type": "markdown",
   "metadata": {},
   "source": [
    "# SIGMOID FITTING (NORM)"
   ]
  },
  {
   "cell_type": "markdown",
   "metadata": {},
   "source": [
    "## Pivot fitting for NORM CURVES"
   ]
  },
  {
   "cell_type": "code",
   "execution_count": null,
   "metadata": {
    "scrolled": false
   },
   "outputs": [],
   "source": [
    "p0_initial = fitfunc.pivot_fitting(df_norm, func,\n",
    "                              NMETA, bounds, maxfev, core_number, thresh_MSE, seed=0)\n",
    "\n",
    "print('Initial p0: ', p0_initial)"
   ]
  },
  {
   "cell_type": "markdown",
   "metadata": {},
   "source": [
    "## Fit all the data for NORM CURVES"
   ]
  },
  {
   "cell_type": "code",
   "execution_count": null,
   "metadata": {},
   "outputs": [],
   "source": [
    "df_fitted_param, df_fitted_curve = fitfunc.sigmoid_fitting_parallel(df_norm,\n",
    "                                                                    NMETA, func, p0_initial, \n",
    "                                                                    bounds, maxfev, core_number)"
   ]
  },
  {
   "cell_type": "code",
   "execution_count": null,
   "metadata": {},
   "outputs": [],
   "source": [
    "# storing data in the folder (saving the new dataframe)\n",
    "loadfunc.store_by_id(df_fitted_param.reset_index(drop = True), data_selected_path, 'processed_data', 'norm_fitted_param')"
   ]
  },
  {
   "cell_type": "code",
   "execution_count": null,
   "metadata": {},
   "outputs": [],
   "source": [
    "# storing data in the folder (saving the new dataframe)\n",
    "loadfunc.store_by_id(df_fitted_curve.reset_index(drop = True), data_selected_path, 'processed_data', 'norm_fitted_curve')"
   ]
  }
 ],
 "metadata": {
  "interpreter": {
   "hash": "73ff138530477f452d5769e2238f875ec2aec7a09b5eb543dba027bb6b9c00a2"
  },
  "kernelspec": {
   "display_name": "Python (MultiplexAnalysis)",
   "language": "python",
   "name": "python3"
  },
  "language_info": {
   "codemirror_mode": {
    "name": "ipython",
    "version": 3
   },
   "file_extension": ".py",
   "mimetype": "text/x-python",
   "name": "python",
   "nbconvert_exporter": "python",
   "pygments_lexer": "ipython3",
   "version": "3.9.7"
  },
  "toc": {
   "base_numbering": 1,
   "nav_menu": {},
   "number_sections": true,
   "sideBar": true,
   "skip_h1_title": false,
   "title_cell": "Table of Contents",
   "title_sidebar": "Contents",
   "toc_cell": false,
   "toc_position": {},
   "toc_section_display": true,
   "toc_window_display": false
  }
 },
 "nbformat": 4,
 "nbformat_minor": 4
}
