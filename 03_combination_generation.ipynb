{
 "cells": [
  {
   "cell_type": "markdown",
   "metadata": {},
   "source": [
    "COMBINATION GENERATION NOTEBOOK\n",
    "\n",
    "This noteobook creates the combination from singleplex to multiplex.<br>\n",
    "It is the starting point for the similarity measure concept:<br>\n",
    "- First we have the singleplex data from the instrument.\n",
    "- We then create all the possible combination based on the target we want to use.\n",
    "- At the end we save a DataFrame with all the possible combinatio and name each MULTIPLEX."
   ]
  },
  {
   "cell_type": "markdown",
   "metadata": {},
   "source": [
    "# IMPORT LIBRARIES"
   ]
  },
  {
   "cell_type": "code",
   "execution_count": 2,
   "metadata": {},
   "outputs": [],
   "source": [
    "import pandas as pd\n",
    "import numpy as np\n",
    "import itertools\n",
    "from pathlib import Path"
   ]
  },
  {
   "cell_type": "code",
   "execution_count": 3,
   "metadata": {},
   "outputs": [],
   "source": [
    "import python_libraries.data_loading as loadfunc\n",
    "import python_libraries.utilities as utils"
   ]
  },
  {
   "cell_type": "code",
   "execution_count": 4,
   "metadata": {},
   "outputs": [],
   "source": [
    "NMETA = 6"
   ]
  },
  {
   "cell_type": "markdown",
   "metadata": {},
   "source": [
    "# LOAD DATA"
   ]
  },
  {
   "cell_type": "markdown",
   "metadata": {},
   "source": [
    "## Select Data"
   ]
  },
  {
   "cell_type": "code",
   "execution_count": 5,
   "metadata": {},
   "outputs": [],
   "source": [
    "singleplex_dict = {0: '20210706_01'}\n",
    "DATA_TYPE = 'singleplex'"
   ]
  },
  {
   "cell_type": "code",
   "execution_count": 6,
   "metadata": {},
   "outputs": [],
   "source": [
    "data_path = f'{Path.cwd().parent}/data'\n",
    "data_selected_path = f'{data_path}/20210716_7_plex'"
   ]
  },
  {
   "cell_type": "code",
   "execution_count": 7,
   "metadata": {},
   "outputs": [
    {
     "data": {
      "text/html": [
       "<div>\n",
       "<style scoped>\n",
       "    .dataframe tbody tr th:only-of-type {\n",
       "        vertical-align: middle;\n",
       "    }\n",
       "\n",
       "    .dataframe tbody tr th {\n",
       "        vertical-align: top;\n",
       "    }\n",
       "\n",
       "    .dataframe thead th {\n",
       "        text-align: right;\n",
       "    }\n",
       "</style>\n",
       "<table border=\"1\" class=\"dataframe\">\n",
       "  <thead>\n",
       "    <tr style=\"text-align: right;\">\n",
       "      <th></th>\n",
       "      <th>Channel</th>\n",
       "      <th>PrimerMix</th>\n",
       "      <th>Target</th>\n",
       "      <th>Assay</th>\n",
       "      <th>Conc</th>\n",
       "      <th>Exp_ID</th>\n",
       "      <th>1.0</th>\n",
       "      <th>2.0</th>\n",
       "      <th>3.0</th>\n",
       "      <th>4.0</th>\n",
       "      <th>...</th>\n",
       "      <th>36.0</th>\n",
       "      <th>37.0</th>\n",
       "      <th>38.0</th>\n",
       "      <th>39.0</th>\n",
       "      <th>40.0</th>\n",
       "      <th>41.0</th>\n",
       "      <th>42.0</th>\n",
       "      <th>43.0</th>\n",
       "      <th>44.0</th>\n",
       "      <th>45.0</th>\n",
       "    </tr>\n",
       "  </thead>\n",
       "  <tbody>\n",
       "    <tr>\n",
       "      <th>0</th>\n",
       "      <td>panel01</td>\n",
       "      <td>singleplex</td>\n",
       "      <td>ADE</td>\n",
       "      <td>ADE_HEX_03</td>\n",
       "      <td>100000.0</td>\n",
       "      <td>20210706_01</td>\n",
       "      <td>-0.013272</td>\n",
       "      <td>-0.013059</td>\n",
       "      <td>-0.010748</td>\n",
       "      <td>-0.007808</td>\n",
       "      <td>...</td>\n",
       "      <td>1.487606</td>\n",
       "      <td>1.512341</td>\n",
       "      <td>1.539635</td>\n",
       "      <td>1.563420</td>\n",
       "      <td>1.582187</td>\n",
       "      <td>1.600661</td>\n",
       "      <td>1.615349</td>\n",
       "      <td>1.629333</td>\n",
       "      <td>1.643214</td>\n",
       "      <td>1.654212</td>\n",
       "    </tr>\n",
       "    <tr>\n",
       "      <th>1</th>\n",
       "      <td>panel01</td>\n",
       "      <td>singleplex</td>\n",
       "      <td>ADE</td>\n",
       "      <td>ADE_HEX_03</td>\n",
       "      <td>100000.0</td>\n",
       "      <td>20210706_01</td>\n",
       "      <td>-0.013221</td>\n",
       "      <td>-0.011776</td>\n",
       "      <td>-0.009906</td>\n",
       "      <td>-0.007202</td>\n",
       "      <td>...</td>\n",
       "      <td>1.301370</td>\n",
       "      <td>1.349110</td>\n",
       "      <td>1.392268</td>\n",
       "      <td>1.428976</td>\n",
       "      <td>1.464463</td>\n",
       "      <td>1.495932</td>\n",
       "      <td>1.525779</td>\n",
       "      <td>1.552536</td>\n",
       "      <td>1.570690</td>\n",
       "      <td>1.580326</td>\n",
       "    </tr>\n",
       "    <tr>\n",
       "      <th>2</th>\n",
       "      <td>panel01</td>\n",
       "      <td>singleplex</td>\n",
       "      <td>ADE</td>\n",
       "      <td>ADE_HEX_03</td>\n",
       "      <td>100000.0</td>\n",
       "      <td>20210706_01</td>\n",
       "      <td>-0.012398</td>\n",
       "      <td>-0.012193</td>\n",
       "      <td>-0.010444</td>\n",
       "      <td>-0.007357</td>\n",
       "      <td>...</td>\n",
       "      <td>1.298298</td>\n",
       "      <td>1.346353</td>\n",
       "      <td>1.389671</td>\n",
       "      <td>1.428277</td>\n",
       "      <td>1.464866</td>\n",
       "      <td>1.494147</td>\n",
       "      <td>1.518763</td>\n",
       "      <td>1.544194</td>\n",
       "      <td>1.565675</td>\n",
       "      <td>1.579926</td>\n",
       "    </tr>\n",
       "  </tbody>\n",
       "</table>\n",
       "<p>3 rows × 51 columns</p>\n",
       "</div>"
      ],
      "text/plain": [
       "   Channel   PrimerMix Target       Assay      Conc       Exp_ID       1.0  \\\n",
       "0  panel01  singleplex    ADE  ADE_HEX_03  100000.0  20210706_01 -0.013272   \n",
       "1  panel01  singleplex    ADE  ADE_HEX_03  100000.0  20210706_01 -0.013221   \n",
       "2  panel01  singleplex    ADE  ADE_HEX_03  100000.0  20210706_01 -0.012398   \n",
       "\n",
       "        2.0       3.0       4.0  ...      36.0      37.0      38.0      39.0  \\\n",
       "0 -0.013059 -0.010748 -0.007808  ...  1.487606  1.512341  1.539635  1.563420   \n",
       "1 -0.011776 -0.009906 -0.007202  ...  1.301370  1.349110  1.392268  1.428976   \n",
       "2 -0.012193 -0.010444 -0.007357  ...  1.298298  1.346353  1.389671  1.428277   \n",
       "\n",
       "       40.0      41.0      42.0      43.0      44.0      45.0  \n",
       "0  1.582187  1.600661  1.615349  1.629333  1.643214  1.654212  \n",
       "1  1.464463  1.495932  1.525779  1.552536  1.570690  1.580326  \n",
       "2  1.464866  1.494147  1.518763  1.544194  1.565675  1.579926  \n",
       "\n",
       "[3 rows x 51 columns]"
      ]
     },
     "execution_count": 7,
     "metadata": {},
     "output_type": "execute_result"
    }
   ],
   "source": [
    "id_key = [0]\n",
    "exp_id_list = utils.list_from_key(singleplex_dict, id_key)\n",
    "\n",
    "df_raw_rb = loadfunc.load_processed_data_by_expid(data_selected_path, exp_id_list, 'raw_rb')\n",
    "df_raw_rb.head(3)"
   ]
  },
  {
   "cell_type": "markdown",
   "metadata": {},
   "source": [
    "# Creating combinations"
   ]
  },
  {
   "cell_type": "code",
   "execution_count": 8,
   "metadata": {},
   "outputs": [
    {
     "data": {
      "text/plain": [
       "{'ADE': ['ADE_HEX_03', 'ADE_HEX_06', 'ADE_HEX_09', 'ADE_HEX_12'],\n",
       " 'C22': ['C22_N_01', 'C22_N_02'],\n",
       " 'CHK': ['CHK_N_02', 'CHK_N_04', 'CHK_N_06', 'CHK_N_08'],\n",
       " 'CNL': ['CNL_N_01', 'CNL_N_02', 'CNL_N_03', 'CNL_N_04'],\n",
       " 'COC': ['COC_N_01', 'COC_N_02', 'COC_N_04'],\n",
       " 'COV': ['COV_N_01', 'COV_N_02', 'COV_N_03'],\n",
       " 'MER': ['MER_N_01', 'MER_N_02', 'MER_N_03', 'MER_N_04']}"
      ]
     },
     "execution_count": 8,
     "metadata": {},
     "output_type": "execute_result"
    }
   ],
   "source": [
    "df_meta = df_raw_rb.iloc[:,:NMETA]\n",
    "targets = np.unique(df_meta['Target'])\n",
    "assay_dict = df_meta.groupby('Target')['Assay'].apply(list).to_dict()\n",
    "\n",
    "for key, value in assay_dict.items():\n",
    "    assay_dict[key] = list(np.unique(value))\n",
    "    \n",
    "assay_dict"
   ]
  },
  {
   "cell_type": "code",
   "execution_count": 9,
   "metadata": {},
   "outputs": [
    {
     "name": "stdout",
     "output_type": "stream",
     "text": [
      "There are 4608 combinations!\n"
     ]
    }
   ],
   "source": [
    "assay_combos = list(itertools.product(*assay_dict.values()))\n",
    "print(f'There are {len(assay_combos)} combinations!')"
   ]
  },
  {
   "cell_type": "code",
   "execution_count": 29,
   "metadata": {},
   "outputs": [],
   "source": [
    "ID_ZERO_BEFORE = 2  # how many zero before the actual number of the multiplex ID\n",
    "\n",
    "df_assay_match = pd.DataFrame(assay_combos, columns=list(assay_dict.keys()))\n",
    "\n",
    "labels = []\n",
    "for i in df_assay_match.index:\n",
    "    labels.append(f'PM{len(targets)}.{str(i+1).zfill(ID_ZERO_BEFORE)}')\n",
    "\n",
    "df_assay_match['Label'] = labels\n",
    "df_assay_match = df_assay_match.set_index('Label')"
   ]
  },
  {
   "cell_type": "code",
   "execution_count": 30,
   "metadata": {},
   "outputs": [],
   "source": [
    "# Saving\n",
    "df_assay_match.to_csv(f'{data_selected_path}/selected_combinations/assay_combinations_all.csv')"
   ]
  }
 ],
 "metadata": {
  "kernelspec": {
   "display_name": "Python 3",
   "language": "python",
   "name": "python3"
  },
  "language_info": {
   "codemirror_mode": {
    "name": "ipython",
    "version": 3
   },
   "file_extension": ".py",
   "mimetype": "text/x-python",
   "name": "python",
   "nbconvert_exporter": "python",
   "pygments_lexer": "ipython3",
   "version": "3.7.10"
  },
  "toc": {
   "base_numbering": 1,
   "nav_menu": {},
   "number_sections": true,
   "sideBar": true,
   "skip_h1_title": false,
   "title_cell": "Table of Contents",
   "title_sidebar": "Contents",
   "toc_cell": false,
   "toc_position": {},
   "toc_section_display": true,
   "toc_window_display": false
  }
 },
 "nbformat": 4,
 "nbformat_minor": 4
}
