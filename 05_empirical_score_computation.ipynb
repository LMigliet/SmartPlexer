{
 "cells": [
  {
   "cell_type": "markdown",
   "metadata": {},
   "source": [
    "Multiplex Score Computing<br>\n",
    "Computing Multiplex Scores for the empirical primer mixes testing"
   ]
  },
  {
   "cell_type": "markdown",
   "metadata": {},
   "source": [
    "# IMPORT LIBRARIES"
   ]
  },
  {
   "cell_type": "code",
   "execution_count": null,
   "metadata": {},
   "outputs": [],
   "source": [
    "from pathlib import Path"
   ]
  },
  {
   "cell_type": "code",
   "execution_count": null,
   "metadata": {},
   "outputs": [],
   "source": [
    "import python_libraries.data_loading as loadfunc\n",
    "import python_libraries.grouping_function as groupfunc\n",
    "import python_libraries.score_processing as scorefunc\n",
    "import python_libraries.utilities as utils"
   ]
  },
  {
   "cell_type": "markdown",
   "metadata": {},
   "source": [
    "# LOAD DATA"
   ]
  },
  {
   "cell_type": "markdown",
   "metadata": {},
   "source": [
    "## Read Data"
   ]
  },
  {
   "cell_type": "code",
   "execution_count": null,
   "metadata": {},
   "outputs": [],
   "source": [
    "data_path = f'{Path.cwd().parent}/data'\n",
    "data_selected_path = f'{data_path}/20210716_7_plex'"
   ]
  },
  {
   "cell_type": "markdown",
   "metadata": {},
   "source": [
    "## Read Combination data"
   ]
  },
  {
   "cell_type": "code",
   "execution_count": null,
   "metadata": {},
   "outputs": [],
   "source": [
    "singleplex_dict = {0: '20210706_01'}\n",
    "\n",
    "multiplex_dict = {0: '20210707_01',\n",
    "                  1: '20210707_03',\n",
    "                  2: '20210707_02',\n",
    "                  3: '20210708_01',\n",
    "                  4: '20210708_02',\n",
    "                  5: '20210708_03',\n",
    "                  6: '20210715_01',\n",
    "                  7: '20210715_02'}\n",
    "\n",
    "DATA_TYPE = 'singleplex'\n",
    "# DATA_TYPE = 'multiplex'\n",
    "\n",
    "id_key = [0]\n",
    "# id_key = [0, 2, 4, 6]"
   ]
  },
  {
   "cell_type": "code",
   "execution_count": null,
   "metadata": {},
   "outputs": [],
   "source": [
    "exp_id_list = []\n",
    "\n",
    "if DATA_TYPE == 'singleplex':\n",
    "    exp_id_list = utils.list_from_key(singleplex_dict, id_key)\n",
    "\n",
    "if DATA_TYPE == 'multiplex':\n",
    "    exp_id_list = utils.list_from_key(multiplex_dict, id_key)"
   ]
  },
  {
   "cell_type": "code",
   "execution_count": null,
   "metadata": {},
   "outputs": [],
   "source": [
    "combo_dict = {0: 'all',\n",
    "              1: 'bottom_six',\n",
    "              2: 'middle_six',\n",
    "              3: 'top_six',\n",
    "              4: 'top_mean',\n",
    "              5: 'top_min'}"
   ]
  },
  {
   "cell_type": "code",
   "execution_count": null,
   "metadata": {},
   "outputs": [],
   "source": [
    "combo_group_id = [0]\n",
    "# combo_group_id = [1, 2, 3, 4, 5]\n",
    "\n",
    "if 0 in combo_group_id:\n",
    "    COMBO_TYPE = 'all'\n",
    "else:\n",
    "    COMBO_TYPE = 'selected'"
   ]
  },
  {
   "cell_type": "code",
   "execution_count": null,
   "metadata": {},
   "outputs": [],
   "source": [
    "df_combination = loadfunc.load_selected_combo(data_selected_path, combo_group_id, combo_dict)\n",
    "df_combination"
   ]
  },
  {
   "cell_type": "markdown",
   "metadata": {},
   "source": [
    "# Compute all the scores"
   ]
  },
  {
   "cell_type": "code",
   "execution_count": null,
   "metadata": {},
   "outputs": [],
   "source": [
    "# number of meta data columns in the DF (infomration about each well)\n",
    "NMETA = 6"
   ]
  },
  {
   "cell_type": "code",
   "execution_count": null,
   "metadata": {},
   "outputs": [],
   "source": [
    "curve_type_dict = {0: \"raw_rb\", \n",
    "                   1: \"norm_curve\",\n",
    "                   2: \"fitted_param\",\n",
    "                   3: \"fitted_curve\",\n",
    "                   4: \"norm_fitted_param\",\n",
    "                   5: \"norm_fitted_curve\",\n",
    "                   6: 'c_param',\n",
    "                   7: 'norm_c_param'}"
   ]
  },
  {
   "cell_type": "code",
   "execution_count": null,
   "metadata": {
    "scrolled": true
   },
   "outputs": [],
   "source": [
    "for key in curve_type_dict:\n",
    "    \n",
    "    CURVE_TYPE = curve_type_dict[key]\n",
    "    print(f'Computing {DATA_TYPE.upper()} scores for: {curve_type_dict[key].upper()}')\n",
    "    \n",
    "    df_to_compute = loadfunc.load_processed_data(data_selected_path, exp_id_list, CURVE_TYPE, NMETA)\n",
    "    \n",
    "    pm_data = groupfunc.get_primermix_dataframes(df_to_compute, df_combination, DATA_TYPE)\n",
    "    \n",
    "    df_score = scorefunc.compute_score(df_to_compute, NMETA, pm_data)\n",
    "    df_score.to_csv(f'{data_selected_path}/score_data/score_{CURVE_TYPE}_{DATA_TYPE}_{COMBO_TYPE}.csv')"
   ]
  }
 ],
 "metadata": {
  "kernelspec": {
   "display_name": "Python 3",
   "language": "python",
   "name": "python3"
  },
  "language_info": {
   "codemirror_mode": {
    "name": "ipython",
    "version": 3
   },
   "file_extension": ".py",
   "mimetype": "text/x-python",
   "name": "python",
   "nbconvert_exporter": "python",
   "pygments_lexer": "ipython3",
   "version": "3.7.10"
  },
  "toc": {
   "base_numbering": 1,
   "nav_menu": {},
   "number_sections": true,
   "sideBar": true,
   "skip_h1_title": false,
   "title_cell": "Table of Contents",
   "title_sidebar": "Contents",
   "toc_cell": false,
   "toc_position": {},
   "toc_section_display": true,
   "toc_window_display": false
  }
 },
 "nbformat": 4,
 "nbformat_minor": 4
}
